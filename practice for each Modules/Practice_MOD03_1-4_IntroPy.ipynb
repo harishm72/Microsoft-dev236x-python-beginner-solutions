{
 "cells": [
  {
   "cell_type": "markdown",
   "metadata": {},
   "source": [
    "# 1-4.3 Intro Python Practice\n",
    "## Conditionals \n",
    "<font size=\"5\" color=\"#00A0B2\"  face=\"verdana\"> <B>Student will be able to</B></font>  \n",
    "- **control code flow with `if`... `else` conditional logic**  \n",
    "  - using Boolean string methods (`.isupper(), .isalpha(), .startswith()...`)  \n",
    "  - using comparision (`>, <, >=, <=, ==, !=`)  \n",
    "  - using Strings in comparisons  "
   ]
  },
  {
   "cell_type": "markdown",
   "metadata": {},
   "source": [
    "## `if else`\n"
   ]
  },
  {
   "cell_type": "code",
   "execution_count": 3,
   "metadata": {},
   "outputs": [
    {
     "name": "stdout",
     "output_type": "stream",
     "text": [
      "Enter your age : 11\n",
      "It is good to be 11\n"
     ]
    }
   ],
   "source": [
    "# [ ] input avariable: age as digit and cast to int\n",
    "# if age greater than or equal to 12 then print message on age in 10 years \n",
    "# or else print message \"It is good to be\" age\n",
    "age=int(input(\"Enter your age : \"))\n",
    "if(age>=12):\n",
    "    print(\"In a decade your age will be\",(age+10))\n",
    "else:\n",
    "    print(\"It is good to be\",age)"
   ]
  },
  {
   "cell_type": "code",
   "execution_count": 16,
   "metadata": {},
   "outputs": [
    {
     "name": "stdout",
     "output_type": "stream",
     "text": [
      "Enter a number: 1020\n",
      "1020 is greater than 100 True\n"
     ]
    }
   ],
   "source": [
    "# [ ] input a number \n",
    "# if number IS a digit string then cast to int\n",
    "# print number \"greater than 100 is\" True/False\n",
    "# if number is NOT a digit string then message the user that \"only int is accepted\"\n",
    "num=(input(\"Enter a number: \"))\n",
    "if(num.isdigit()):\n",
    "    num=int(num)\n",
    "    if(num>100):\n",
    "        print(num,\"is greater than 100\",(num>100))\n",
    "    else:\n",
    "        print(num,\"is greater than 100\",(num>100))\n",
    "else:\n",
    "    print(\"Only int is accepeted\")"
   ]
  },
  {
   "cell_type": "markdown",
   "metadata": {},
   "source": [
    "### Guessing a letter A-Z  \n",
    "**check_guess()** takes 2 string arguments: **letter and guess** (both expect single alphabetical character)   \n",
    "    - if guess is not an alpha character print invalid and return False\n",
    "    - test and print if guess is \"high\" or \"low\" and return False\n",
    "    - test and print if guess is \"correct\" and return True"
   ]
  },
  {
   "cell_type": "code",
   "execution_count": 8,
   "metadata": {},
   "outputs": [
    {
     "name": "stdout",
     "output_type": "stream",
     "text": [
      "High guess\n"
     ]
    },
    {
     "data": {
      "text/plain": [
       "False"
      ]
     },
     "execution_count": 8,
     "metadata": {},
     "output_type": "execute_result"
    }
   ],
   "source": [
    "# [ ] create check_guess()\n",
    "# call with test\n",
    "def check_guess(letter, guess):\n",
    "    if guess.isalpha()==False:\n",
    "        print(\"invalid\")\n",
    "        return guess.isalpha()\n",
    "    elif(guess==letter):\n",
    "        print(\"Correct\")\n",
    "        return True\n",
    "    elif(guess>letter):\n",
    "        print(\"High guess\")\n",
    "        return False\n",
    "    else:\n",
    "        print(\"Low guess\")\n",
    "        return False\n",
    "check_guess(\"H\",\"J\")"
   ]
  },
  {
   "cell_type": "code",
   "execution_count": 9,
   "metadata": {},
   "outputs": [
    {
     "name": "stdout",
     "output_type": "stream",
     "text": [
      "Guess the letter form A-Z h\n",
      "Correct\n"
     ]
    },
    {
     "data": {
      "text/plain": [
       "True"
      ]
     },
     "execution_count": 9,
     "metadata": {},
     "output_type": "execute_result"
    }
   ],
   "source": [
    "# [ ] call check_guess with user input\n",
    "guess=input(\"Guess the letter form A-Z \").upper()\n",
    "check_guess(\"H\",guess)\n"
   ]
  },
  {
   "cell_type": "markdown",
   "metadata": {},
   "source": [
    "### Letter Guess\n",
    "**create letter_guess() function that gives user 3 guesses**\n",
    "- takes a letter character argument for the answer letter\n",
    "- gets user input for letter guess  \n",
    "- calls check_guess() with answer and guess\n",
    "- End letter_guess if \n",
    "    - check_guess() equals True, return True  \n",
    "    - or after 3 failed attempts, return False"
   ]
  },
  {
   "cell_type": "code",
   "execution_count": 16,
   "metadata": {},
   "outputs": [
    {
     "name": "stdout",
     "output_type": "stream",
     "text": [
      "You have three choices to guess the answer, good luck!\n",
      "Enter  your first guess M\n",
      "High guess\n",
      "ENter your second guess N\n",
      "High guess\n",
      "Enter your third guess L\n",
      "Correct\n"
     ]
    },
    {
     "data": {
      "text/plain": [
       "True"
      ]
     },
     "execution_count": 16,
     "metadata": {},
     "output_type": "execute_result"
    }
   ],
   "source": [
    "# [ ] create letter_guess() function, call the function to test\n",
    "def letter_guess(answer):\n",
    "    print(\"You have three choices to guess the answer, good luck!\")\n",
    "    guess=input(\"Enter  your first guess \")\n",
    "    if(check_guess(answer,guess)==True):\n",
    "        return True\n",
    "    guess=input(\"ENter your second guess \")\n",
    "    if(check_guess(answer,guess)==True):\n",
    "        return True\n",
    "    guess=input(\"Enter your third guess \")\n",
    "    if(check_guess(answer,guess)==True):\n",
    "        return True\n",
    "    else:\n",
    "        print(\"You have run out of choices\")\n",
    "        return False\n",
    "    \n",
    "letter_guess(\"L\")"
   ]
  },
  {
   "cell_type": "markdown",
   "metadata": {},
   "source": [
    "### Pet Conversation\n",
    "**ask the user for a sentence about a pet and then reply**  \n",
    "- get user input in variable: about_pet\n",
    "- using a series of **if** statements respond with appropriate conversation\n",
    "  - check if \"dog\" is in the string about_pet (sample reply \"Ah, a dog\")\n",
    "  - check if \"cat\" is in the string about_pet\n",
    "  - check if 1 or more animal is in string about_pet\n",
    "- no need for **else**'s\n",
    "- finish with thanking for the story"
   ]
  },
  {
   "cell_type": "code",
   "execution_count": 1,
   "metadata": {},
   "outputs": [
    {
     "name": "stdout",
     "output_type": "stream",
     "text": [
      "Say something about your pet fish\n",
      "I love fishes\n",
      "Thanks for the story\n"
     ]
    }
   ],
   "source": [
    "# [ ] complete pet conversation\n",
    "pets=\"dog,cat,parrot,fish\"\n",
    "about_pet=input(\"Say something about your pet \")\n",
    "if(\"dog\" in about_pet):\n",
    "    print(\"Ah, a dog,i like dogs\")\n",
    "if(\"cat\" in about_pet):\n",
    "    print(\"Ah, i like cats!\")\n",
    "if(\"fish\" in about_pet):\n",
    "    print(\"I love fishes\")\n",
    "print(\"Thanks for the story\")\n"
   ]
  },
  {
   "cell_type": "markdown",
   "metadata": {
    "collapsed": true
   },
   "source": [
    "[Terms of use](http://go.microsoft.com/fwlink/?LinkID=206977) &nbsp; [Privacy & cookies](https://go.microsoft.com/fwlink/?LinkId=521839) &nbsp; © 2017 Microsoft"
   ]
  }
 ],
 "metadata": {
  "anaconda-cloud": {},
  "kernelspec": {
   "display_name": "Python 3",
   "language": "python",
   "name": "python3"
  },
  "language_info": {
   "codemirror_mode": {
    "name": "ipython",
    "version": 3
   },
   "file_extension": ".py",
   "mimetype": "text/x-python",
   "name": "python",
   "nbconvert_exporter": "python",
   "pygments_lexer": "ipython3",
   "version": "3.5.4"
  }
 },
 "nbformat": 4,
 "nbformat_minor": 1
}
