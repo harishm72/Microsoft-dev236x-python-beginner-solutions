{
 "cells": [
  {
   "cell_type": "markdown",
   "metadata": {},
   "source": [
    "# 1-5 Intro Python Practice  \n",
    "## conditionals, type, and mathematics extended   \n",
    "&nbsp;\n",
    "<font size=\"5\" color=\"#00A0B2\"  face=\"verdana\"> <B>Student will be able to</B></font>  \n",
    "- code more than two choices using **`elif`** \n",
    "- gather numeric input using type casting  \n",
    "- perform subtraction, multiplication and division operations in code  &nbsp;  \n"
   ]
  },
  {
   "cell_type": "markdown",
   "metadata": {},
   "source": [
    "# &nbsp;  \n",
    "<font size=\"6\" color=\"#B24C00\"  face=\"verdana\"> <B>Tasks</B></font>"
   ]
  },
  {
   "cell_type": "markdown",
   "metadata": {},
   "source": [
    "### Rainbow colors\n",
    "ask for input of a favorite rainbow color first letter: ROYGBIV  \n",
    "\n",
    "Using `if`, `elif`, and `else`:  \n",
    "- print the color matching the letter  \n",
    "    - R = Red  \n",
    "    - O = Orange  \n",
    "    - Y = Yellow  \n",
    "    - G = Green\n",
    "    - B = Blue\n",
    "    - I = Indigo\n",
    "    - V = Violet\n",
    "    - else print \"no match\"\n"
   ]
  },
  {
   "cell_type": "code",
   "execution_count": 3,
   "metadata": {},
   "outputs": [],
   "source": [
    "# [ ] complete rainbow colors\n",
    "def rainbow_color(color):\n",
    "    R =\"Red\"\n",
    "    O =\"Orange\"\n",
    "    Y = \"Yellow\"\n",
    "    G = \"Green\"\n",
    "    B = \"Blue\"\n",
    "    I = \"Indigo\"\n",
    "    V = \"Violet\"\n",
    "    if(color==\"R\"):\n",
    "        print(\"Red\")\n",
    "        return True\n",
    "    elif(color=='O'):\n",
    "        print(\"Orange\")\n",
    "        return True\n",
    "    elif(color=='Y'):\n",
    "        print(\"Yellow\")\n",
    "        return True\n",
    "    elif(color=='G'):\n",
    "        print(\"Green\")\n",
    "        return True\n",
    "    elif(color=='B'):\n",
    "        print(\"Blue\")\n",
    "        return True\n",
    "    elif(color=='I'):\n",
    "        print(\"Indigo\")\n",
    "        return True\n",
    "    elif(color=='V'):\n",
    "        print(\"Violet\")\n",
    "        return True\n",
    "    else:\n",
    "        print(\"No match\")\n",
    "        return False"
   ]
  },
  {
   "cell_type": "code",
   "execution_count": 4,
   "metadata": {},
   "outputs": [
    {
     "name": "stdout",
     "output_type": "stream",
     "text": [
      "Favourite rainbow color first letter : r\n",
      "Red\n"
     ]
    },
    {
     "data": {
      "text/plain": [
       "True"
      ]
     },
     "execution_count": 4,
     "metadata": {},
     "output_type": "execute_result"
    }
   ],
   "source": [
    "# [ ] make the code above into a function rainbow_color() that has a string parameter, \n",
    "# get input and call the function and return the matching color as a string or \"no match\" message.\n",
    "# Call the function and print the return string.\n",
    "color=input(\"Favourite rainbow color first letter : \").upper()\n",
    "rainbow_color(color)\n"
   ]
  },
  {
   "cell_type": "markdown",
   "metadata": {},
   "source": [
    "# &nbsp;  \n",
    "**Create function age_20() that adds or subtracts 20 from your age for a return value based on current age** (use `if`) \n",
    "- call the funtion with user input and then use the return value in a sentence  \n",
    "example `age_20(25)` returns **5**: \n",
    "> \"5 years old, 20 years difference from now\""
   ]
  },
  {
   "cell_type": "code",
   "execution_count": 5,
   "metadata": {},
   "outputs": [
    {
     "name": "stdout",
     "output_type": "stream",
     "text": [
      "10 years old,20 years difference from now\n"
     ]
    },
    {
     "data": {
      "text/plain": [
       "10"
      ]
     },
     "execution_count": 5,
     "metadata": {},
     "output_type": "execute_result"
    }
   ],
   "source": [
    "# [ ] complete age_20()\n",
    "def age_20(age):\n",
    "    if(age<=20):\n",
    "        return False\n",
    "    else:\n",
    "        print(age-20,\"years old,20 years difference from now\")\n",
    "        return age-20\n",
    "age_20(30)  \n"
   ]
  },
  {
   "cell_type": "markdown",
   "metadata": {},
   "source": [
    "**create a function rainbow_or_age that takes a string argument**\n",
    "- if argument is a digit return the value of calling age_20() with the str value cast as **`int`** \n",
    "- if argument is an alphabetical character return the value of calling rainbow_color() with the str\n",
    "- if neither return FALSE"
   ]
  },
  {
   "cell_type": "code",
   "execution_count": 13,
   "metadata": {},
   "outputs": [
    {
     "name": "stdout",
     "output_type": "stream",
     "text": [
      "Enter something !! ..\n"
     ]
    },
    {
     "data": {
      "text/plain": [
       "False"
      ]
     },
     "execution_count": 13,
     "metadata": {},
     "output_type": "execute_result"
    }
   ],
   "source": [
    "# [ ]  create rainbow_or_age()\n",
    "def rainbow_or_age(arg):\n",
    "    if(arg.isdigit()):\n",
    "        arg=int(arg)\n",
    "        return age_20(arg)\n",
    "    elif(arg.isalpha()):\n",
    "        arg=arg.upper()\n",
    "        return rainbow_color(arg)\n",
    "    else:\n",
    "        return False\n",
    "x=input(\"Enter something !! \")   \n",
    "rainbow_or_age(x)"
   ]
  },
  {
   "cell_type": "code",
   "execution_count": 1,
   "metadata": {},
   "outputs": [
    {
     "name": "stdout",
     "output_type": "stream",
     "text": [
      "1st Number 12\n",
      "2nd number 18\n",
      "30\n"
     ]
    }
   ],
   "source": [
    "# [ ]  add 2 numbers from input using a cast to integer and display the answer \n",
    "num1=int(input(\"1st Number \"))\n",
    "num2=int(input(\"2nd number \"))\n",
    "print(num1+num2)"
   ]
  },
  {
   "cell_type": "code",
   "execution_count": 5,
   "metadata": {},
   "outputs": [
    {
     "name": "stdout",
     "output_type": "stream",
     "text": [
      "1st Number -9\n",
      "2nd Number 1\n",
      "the answer is... -9\n"
     ]
    }
   ],
   "source": [
    "# [ ] Multiply 2 numbers from input using cast and save the answer as part of a string \"the answer is...\"\n",
    "# display the string using print\n",
    "num1=int(input(\"1st Number \"))\n",
    "num2=int(input(\"2nd Number \"))\n",
    "print(\"the answer is...\",(num1*num2))\n"
   ]
  },
  {
   "cell_type": "code",
   "execution_count": 6,
   "metadata": {},
   "outputs": [
    {
     "name": "stdout",
     "output_type": "stream",
     "text": [
      "1st Number 100\n",
      "2nd Number 80\n",
      "90.0\n"
     ]
    }
   ],
   "source": [
    "# [ ] get input of 2 numbers and display the average: (num1 + num2) divided by 2\n",
    "num1=int(input(\"1st Number \"))\n",
    "num2=int(input(\"2nd Number \"))\n",
    "sum=num1+num2\n",
    "print(sum/2)\n"
   ]
  },
  {
   "cell_type": "code",
   "execution_count": 8,
   "metadata": {},
   "outputs": [
    {
     "name": "stdout",
     "output_type": "stream",
     "text": [
      "1st Number 9\n",
      "2nd Number 15\n",
      "6\n"
     ]
    }
   ],
   "source": [
    "# [ ] get input of 2 numbers and subtract the largest from the smallest (use an if statement to see which is larger)\n",
    "# show the answer\n",
    "num1=int(input(\"1st Number \"))\n",
    "num2=int(input(\"2nd Number \"))\n",
    "if(num1>num2):\n",
    "    large=num1\n",
    "    small=num2\n",
    "else:\n",
    "    small=num1\n",
    "    large=num2\n",
    "print(large-small)\n"
   ]
  },
  {
   "cell_type": "code",
   "execution_count": 19,
   "metadata": {},
   "outputs": [
    {
     "name": "stdout",
     "output_type": "stream",
     "text": [
      "1st Number 1\n",
      "2nd Number 3\n",
      "3\n"
     ]
    }
   ],
   "source": [
    "# [ ] Divide a larger number by a smaller number and print the integer part of the result\n",
    "# don't divide by zero! if a zero is input make the result zero\n",
    "# [ ] cast the answer to an integer to cut off the decimals and print the result\n",
    "num1=int(input(\"1st Number \"))\n",
    "num2=int(input(\"2nd Number \"))\n",
    "if(num1>num2):\n",
    "    large=num1\n",
    "    small=num2\n",
    "else:\n",
    "    small=num1\n",
    "    large=num2\n",
    "if(large==0) or (small==0):\n",
    "    div=0\n",
    "    print(div)\n",
    "else:\n",
    "    div=large/small\n",
    "    print(int(div))\n"
   ]
  },
  {
   "cell_type": "markdown",
   "metadata": {},
   "source": [
    "[Terms of use](http://go.microsoft.com/fwlink/?LinkID=206977) &nbsp; [Privacy & cookies](https://go.microsoft.com/fwlink/?LinkId=521839) &nbsp; © 2017 Microsoft"
   ]
  }
 ],
 "metadata": {
  "anaconda-cloud": {},
  "kernelspec": {
   "display_name": "Python 3",
   "language": "python",
   "name": "python3"
  },
  "language_info": {
   "codemirror_mode": {
    "name": "ipython",
    "version": 3
   },
   "file_extension": ".py",
   "mimetype": "text/x-python",
   "name": "python",
   "nbconvert_exporter": "python",
   "pygments_lexer": "ipython3",
   "version": "3.5.4"
  }
 },
 "nbformat": 4,
 "nbformat_minor": 1
}
